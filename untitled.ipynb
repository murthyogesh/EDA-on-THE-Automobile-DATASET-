{
  "cells": [
    {
      "cell_type": "markdown",
      "metadata": {
        "id": "view-in-github",
        "colab_type": "text"
      },
      "source": [
        "<a href=\"https://colab.research.google.com/github/murthyogesh/EDA-on-THE-Automobile-DATASET-/blob/main/untitled.ipynb\" target=\"_parent\"><img src=\"https://colab.research.google.com/assets/colab-badge.svg\" alt=\"Open In Colab\"/></a>"
      ]
    },
    {
      "cell_type": "code",
      "execution_count": null,
      "id": "c2fffe07-7ef1-4476-8c8e-9259927a1223",
      "metadata": {
        "id": "c2fffe07-7ef1-4476-8c8e-9259927a1223",
        "outputId": "91ed6f3f-4f2a-42f5-adbe-857e97449d51"
      },
      "outputs": [
        {
          "name": "stdout",
          "output_type": "stream",
          "text": [
            "1 4 9 16 "
          ]
        }
      ],
      "source": [
        "l = [1,2,3,4]\n",
        "for i in l:\n",
        "    print(i*i,end=\" \")"
      ]
    },
    {
      "cell_type": "code",
      "execution_count": null,
      "id": "099ae3fb-4021-40ab-9bd0-75fb925e45e2",
      "metadata": {
        "id": "099ae3fb-4021-40ab-9bd0-75fb925e45e2",
        "outputId": "6cbfe90d-3523-420c-c859-5c8b3a9805dd"
      },
      "outputs": [
        {
          "name": "stdout",
          "output_type": "stream",
          "text": [
            "SEDJHTGFVJLKBH \n",
            "SEDJHTGFVJLKBH \n",
            "SEDJHTGFVJLKBH \n",
            "SEDJHTGFVJLKBH \n",
            "SEDJHTGFVJLKBH \n"
          ]
        }
      ],
      "source": [
        "l = [1,2,3,4,5]\n",
        "for i in l:\n",
        "    print(\"SEDJHTGFVJLKBH \")"
      ]
    },
    {
      "cell_type": "code",
      "execution_count": null,
      "id": "b2e4ddf0-3b14-4b81-93c2-ee042b8622ca",
      "metadata": {
        "id": "b2e4ddf0-3b14-4b81-93c2-ee042b8622ca",
        "outputId": "9a8e462e-0ac6-41e4-82b3-8742fd59f861"
      },
      "outputs": [
        {
          "name": "stdout",
          "output_type": "stream",
          "text": [
            "1 4 9 16 25 36 49 64 81 100 "
          ]
        }
      ],
      "source": [
        "for i in range(1,11):\n",
        "    print(i**2,end=\" \")\n"
      ]
    },
    {
      "cell_type": "code",
      "execution_count": null,
      "id": "049f25f6-ac32-4996-bd92-d98e61e44b1d",
      "metadata": {
        "id": "049f25f6-ac32-4996-bd92-d98e61e44b1d",
        "outputId": "e9e851b2-db38-4203-84a7-792738d94f9a"
      },
      "outputs": [
        {
          "name": "stdout",
          "output_type": "stream",
          "text": [
            "[1, 4, 9, 16, 25, 36, 49, 64, 81, 100]\n"
          ]
        }
      ],
      "source": [
        "l = [i**2 for i in range(1,11)]\n",
        "print(l)"
      ]
    },
    {
      "cell_type": "code",
      "execution_count": null,
      "id": "b5c1e405-f31e-45c9-9284-844a80fdcaed",
      "metadata": {
        "id": "b5c1e405-f31e-45c9-9284-844a80fdcaed",
        "outputId": "a1310ca4-6aa7-4902-c076-97bd691c6f11"
      },
      "outputs": [
        {
          "name": "stdout",
          "output_type": "stream",
          "text": [
            "[1, 2, 3, 4, 5, 1, 2, 3, 4, 5, 6, 7, 8]\n"
          ]
        }
      ],
      "source": [
        "l = [1,2,3,4,5]\n",
        "n = [1,2,3,4,5,6,7,8]\n",
        "l.extend(n)\n",
        "print(l)"
      ]
    },
    {
      "cell_type": "code",
      "execution_count": null,
      "id": "2664f018-9613-4098-b24d-5148620bef84",
      "metadata": {
        "id": "2664f018-9613-4098-b24d-5148620bef84",
        "outputId": "7253cf00-8710-43f2-9e7d-ff2cbb78dea3"
      },
      "outputs": [
        {
          "name": "stdout",
          "output_type": "stream",
          "text": [
            "[1, 22, 3, 4, 5]\n"
          ]
        }
      ],
      "source": [
        "l = [1,22,[3,4],5]\n",
        "nl =  []\n",
        "for i in l:\n",
        "    if isinstance(i,list):\n",
        "        nl.extend(i)\n",
        "    else:\n",
        "        nl.append(i)\n",
        "\n",
        "print(nl)\n"
      ]
    },
    {
      "cell_type": "code",
      "execution_count": null,
      "id": "7529e10f-c20e-44c9-832b-198e0b7d40da",
      "metadata": {
        "id": "7529e10f-c20e-44c9-832b-198e0b7d40da",
        "outputId": "59dff10e-69d8-471a-bec4-4e2651844d22"
      },
      "outputs": [
        {
          "name": "stdout",
          "output_type": "stream",
          "text": [
            "[1, 22.3, 33, 4, 6]\n"
          ]
        }
      ],
      "source": [
        "l1 = [1,22.3,[33,4],6]\n",
        "k = []\n",
        "\n",
        "for data in l1:\n",
        "    if len(str(data))>1 and type(data) == list:\n",
        "        for datas in data:\n",
        "            k.append(datas)\n",
        "\n",
        "        continue;\n",
        "    k.append(data)\n",
        "print(k)\n",
        "\n",
        "\n",
        "\n"
      ]
    },
    {
      "cell_type": "code",
      "execution_count": null,
      "id": "a87c8065-8528-442f-80d0-32e78ba64ad1",
      "metadata": {
        "id": "a87c8065-8528-442f-80d0-32e78ba64ad1",
        "outputId": "015da3b6-2bed-442b-f6ee-60715a77ceec"
      },
      "outputs": [
        {
          "name": "stdout",
          "output_type": "stream",
          "text": [
            "[1, 23, 33, 4, 55, 1, 2, 6]\n"
          ]
        }
      ],
      "source": [
        "l1 = [1, 23, [33, 4,55,1,2], 6]\n",
        "k = []\n",
        "\n",
        "for data in l1:\n",
        "    if type(data) == list:\n",
        "        k.extend(data)\n",
        "    else:\n",
        "        k.append(data)\n",
        "\n",
        "print(k)"
      ]
    },
    {
      "cell_type": "code",
      "execution_count": null,
      "id": "5d9efa91-797f-4f43-b569-9e7e778b0dad",
      "metadata": {
        "id": "5d9efa91-797f-4f43-b569-9e7e778b0dad",
        "outputId": "42a6e3c1-5600-4cc2-b7c2-1cb6f10b2813"
      },
      "outputs": [
        {
          "name": "stdout",
          "output_type": "stream",
          "text": [
            "<class 'int'>\n"
          ]
        }
      ],
      "source": [
        "l1 = [1, 23, 33, 4, 6]\n",
        "print(type(l1[0]))\n"
      ]
    },
    {
      "cell_type": "code",
      "execution_count": null,
      "id": "6a0fecfb-352c-4d2b-868b-79fc5a36e56b",
      "metadata": {
        "id": "6a0fecfb-352c-4d2b-868b-79fc5a36e56b",
        "outputId": "0b322523-73dc-45a2-f3be-5690c0d6a89b"
      },
      "outputs": [
        {
          "name": "stdout",
          "output_type": "stream",
          "text": [
            "<class 'list'>\n"
          ]
        }
      ],
      "source": [
        "print(type(l1))"
      ]
    },
    {
      "cell_type": "code",
      "execution_count": null,
      "id": "5157024c-fcaf-4a60-a0bf-afa017e6abe5",
      "metadata": {
        "id": "5157024c-fcaf-4a60-a0bf-afa017e6abe5",
        "outputId": "fea23058-c0bf-49a8-e0e6-9480090e706a"
      },
      "outputs": [
        {
          "name": "stdout",
          "output_type": "stream",
          "text": [
            "RBI\n",
            "repo\n",
            "rate\n",
            "cut\n",
            "by\n",
            "io\n",
            "50\n",
            "bps:\n",
            "The\n",
            "RBI\n",
            "has\n",
            "cut\n",
            "the\n",
            "repo\n",
            "rate\n",
            "and\n",
            "other\n",
            "key\n",
            "rates\n",
            "by\n",
            "50\n",
            "bps\n",
            "in\n",
            "today's\n",
            "monetary\n",
            "policy\n",
            "announcement.\n",
            "['RBI', 'repo', 'rate', 'cut', 'by', 'io', '50', 'bps:', 'The', 'RBI', 'has', 'cut', 'the', 'repo', 'rate', 'and', 'other', 'key', 'rates', 'by', '50', 'bps', 'in', \"today's\", 'monetary', 'policy', 'announcement.']\n",
            "RBI 2\n",
            "repo 2\n",
            "rate 2\n",
            "cut 2\n",
            "by 2\n",
            "io 1\n",
            "50 2\n",
            "bps: 1\n",
            "The 1\n",
            "has 1\n",
            "the 1\n",
            "and 1\n",
            "other 1\n",
            "key 1\n",
            "rates 1\n",
            "bps 1\n",
            "in 1\n",
            "today's 1\n",
            "monetary 1\n",
            "policy 1\n",
            "announcement. 1\n"
          ]
        }
      ],
      "source": [
        "from collections import Counter\n",
        "s = \"RBI repo rate cut by io 50 bps: The RBI has cut the repo rate and other key rates by 50 bps in today's monetary policy announcement.\"\n",
        "s = s.split()\n",
        "print(s)\n",
        "\n",
        "a = dict(Counter(s))\n",
        "for k,v in a.items():\n",
        "    if (v >=1):\n",
        "        print(k,v)\n"
      ]
    },
    {
      "cell_type": "code",
      "execution_count": null,
      "id": "7f3083da-ace0-4d77-8db9-eafce123ba96",
      "metadata": {
        "id": "7f3083da-ace0-4d77-8db9-eafce123ba96",
        "outputId": "86c2ecc5-b66d-40c8-da17-dd90cf002e2b"
      },
      "outputs": [
        {
          "name": "stdout",
          "output_type": "stream",
          "text": [
            "{'m': 2, 'y': 1, 's': 1, 'u': 2, 'r': 2, ' ': 1, 'a': 4, 'h': 1, 'j': 1}\n"
          ]
        }
      ],
      "source": [
        "s1 = 'mysuru maharaja'\n",
        "d = {}\n",
        "\n",
        "for i in s1:\n",
        "    if i in d.keys():\n",
        "        d[i] = d[i]+1\n",
        "\n",
        "    else:\n",
        "        d[i] = 1\n",
        "print(d)"
      ]
    },
    {
      "cell_type": "code",
      "execution_count": null,
      "id": "3df250ce-5d4d-46c6-b0b1-86440d87fb3b",
      "metadata": {
        "id": "3df250ce-5d4d-46c6-b0b1-86440d87fb3b",
        "outputId": "46e662bb-0fd4-4a86-e246-103c7514c702"
      },
      "outputs": [
        {
          "name": "stdout",
          "output_type": "stream",
          "text": [
            "{'m': 2, 'y': 1, 's': 1, 'u': 2, 'r': 2, ' ': 1, 'a': 4, 'h': 1, 'j': 1}\n"
          ]
        }
      ],
      "source": [
        "s2='mysuru maharaja'\n",
        "a = dict(Counter(s2))\n",
        "print(a)"
      ]
    },
    {
      "cell_type": "code",
      "execution_count": null,
      "id": "e12f5420-cf87-49f5-bbd9-c65d2421847e",
      "metadata": {
        "id": "e12f5420-cf87-49f5-bbd9-c65d2421847e",
        "outputId": "8cc68b6d-0876-4f18-8d0b-fabb63ce6541"
      },
      "outputs": [
        {
          "name": "stdout",
          "output_type": "stream",
          "text": [
            "anagram\n"
          ]
        }
      ],
      "source": [
        "l1 = 'listen'\n",
        "l2 = 'silent'\n",
        "\n",
        "if len(l1) !=len(l2):\n",
        "    print('not an anagram')\n",
        "elif sorted(l1) == sorted(l1):\n",
        "    print('anagram')\n",
        "else:\n",
        "    print('not an anagram')\n"
      ]
    },
    {
      "cell_type": "code",
      "execution_count": null,
      "id": "a4dec6e8-c870-4769-a635-3cd3336434f7",
      "metadata": {
        "id": "a4dec6e8-c870-4769-a635-3cd3336434f7",
        "outputId": "7a4a23b7-3e53-454a-a4cd-c5c4d71d8714"
      },
      "outputs": [
        {
          "name": "stdout",
          "output_type": "stream",
          "text": [
            "Anagram\n"
          ]
        }
      ],
      "source": [
        "str1 = \"listen\"\n",
        "str2 = \"silent\"\n",
        "\n",
        "str1 = str1.replace(\" \", \"\").lower()\n",
        "str2 = str2.replace(\" \", \"\").lower()\n",
        "\n",
        "if len(str1) != len(str2):\n",
        "    print(\"Not an anagram\")\n",
        "elif sorted(str1) == sorted(str2):\n",
        "    print(\"Anagram\")\n",
        "else:\n",
        "    print(\"Not an anagram\")\n"
      ]
    },
    {
      "cell_type": "code",
      "execution_count": null,
      "id": "ac6e68b4-40e2-44c7-ad8a-e72c185e0c2a",
      "metadata": {
        "id": "ac6e68b4-40e2-44c7-ad8a-e72c185e0c2a",
        "outputId": "4c5ef8ae-fa3a-430e-b1a5-d3eace5f3729"
      },
      "outputs": [
        {
          "name": "stdout",
          "output_type": "stream",
          "text": [
            "{'i': 5, 'e': 12, 'o': 8, 'a': 8, 'u': 3}\n"
          ]
        }
      ],
      "source": [
        "s = \"RBI repo rate cut by io 50 bps: The RBI has cut the repo rate and other key rates by 50 bps in today's monetary policy announcement.\"\n",
        "s=s.lower()\n",
        "a = ['a','e','i','o','u']\n",
        "d={}\n",
        "for i in s:\n",
        "    if i in a:\n",
        "        if i in d.keys():\n",
        "            d[i]=d[i]+1\n",
        "        else:\n",
        "            d[i]=1\n",
        "print(d)\n",
        "\n",
        "\n"
      ]
    },
    {
      "cell_type": "code",
      "execution_count": null,
      "id": "481d0cd5-4d85-4a12-b1f9-3d4e518647d8",
      "metadata": {
        "id": "481d0cd5-4d85-4a12-b1f9-3d4e518647d8",
        "outputId": "92ae163b-786e-422b-a15a-d1ee7251bbba"
      },
      "outputs": [
        {
          "name": "stdout",
          "output_type": "stream",
          "text": [
            "['e', 'o', 'a', 'e', 'u', 'i', 'o', 'e', 'a', 'u', 'e', 'e', 'o', 'a', 'e', 'a', 'o', 'e', 'e', 'a', 'e', 'i', 'o', 'a', 'o', 'e', 'a', 'o', 'i', 'a', 'o', 'u', 'e', 'e']\n"
          ]
        },
        {
          "data": {
            "text/plain": [
              "Counter({'e': 12, 'o': 8, 'a': 8, 'u': 3, 'i': 3})"
            ]
          },
          "execution_count": 216,
          "metadata": {},
          "output_type": "execute_result"
        }
      ],
      "source": [
        "from collections import Counter\n",
        "s = \"RBI repo rate cut by io 50 bps: The RBI has cut the repo rate and other key rates by 50 bps in today's monetary policy announcement.\"\n",
        "s.lower()\n",
        "v = ['a','e','i','o','u']\n",
        "a = []\n",
        "b = []\n",
        "for i in s:\n",
        "    if i in v:\n",
        "        a.append(i)\n",
        "    else:\n",
        "        b.append(i)\n",
        "\n",
        "print(a)\n",
        "Counter(a)\n"
      ]
    },
    {
      "cell_type": "code",
      "execution_count": null,
      "id": "409af159-a6f4-40a8-bded-c6636125cf06",
      "metadata": {
        "id": "409af159-a6f4-40a8-bded-c6636125cf06",
        "outputId": "90a17e9a-b2d0-4b5d-f2fa-7225f440eeed"
      },
      "outputs": [
        {
          "data": {
            "text/plain": [
              "Counter({'e': 12, 'o': 8, 'a': 8, 'i': 5, 'u': 3})"
            ]
          },
          "execution_count": 207,
          "metadata": {},
          "output_type": "execute_result"
        }
      ],
      "source": [
        "from collections import Counter\n",
        "s = \"RBI repo rate cut by io 50 bps: The RBI has cut the repo rate and other key rates by 50 bps in today's monetary policy announcement.\"\n",
        "s=s.lower()\n",
        "\n",
        "a = ['a','e','i','o','u']\n",
        "d = []\n",
        "for i in s:\n",
        "    if i in a:\n",
        "        d.append(i)\n",
        "\n",
        "Counter(d)"
      ]
    },
    {
      "cell_type": "code",
      "execution_count": null,
      "id": "4791e2d9-7495-41ba-8c71-c4aa133840a2",
      "metadata": {
        "id": "4791e2d9-7495-41ba-8c71-c4aa133840a2",
        "outputId": "5d3aaad0-9b1b-40d6-a0f3-afedf7ee5511"
      },
      "outputs": [
        {
          "name": "stdout",
          "output_type": "stream",
          "text": [
            "45\n"
          ]
        }
      ],
      "source": [
        "l = [1,2,3,4,5,6,7,8,9]\n",
        "a = sum(l)\n",
        "print(a)"
      ]
    },
    {
      "cell_type": "code",
      "execution_count": null,
      "id": "a93bf54b-42b2-4e4d-a596-0cccccfe9340",
      "metadata": {
        "id": "a93bf54b-42b2-4e4d-a596-0cccccfe9340",
        "outputId": "ada0c383-5c1b-4fbc-9927-3587feed526e"
      },
      "outputs": [
        {
          "name": "stdout",
          "output_type": "stream",
          "text": [
            "['1,2,3,4,5,6,7,8,9']\n"
          ]
        }
      ],
      "source": [
        "a= \"1,2,3,4,5,6,7,8,9\"\n",
        "s=a.split()\n",
        "print(s)\n"
      ]
    },
    {
      "cell_type": "code",
      "execution_count": null,
      "id": "f20d63af-4348-4c8d-a5d2-e67ea408ca8a",
      "metadata": {
        "id": "f20d63af-4348-4c8d-a5d2-e67ea408ca8a",
        "outputId": "01fcef20-06c6-49ab-8aaf-3b9cac601e15"
      },
      "outputs": [
        {
          "name": "stdout",
          "output_type": "stream",
          "text": [
            "Counter({'l': 1, 'i': 1, 's': 1, 't': 1, 'e': 1, 'n': 1})\n"
          ]
        }
      ],
      "source": [
        "a='listen'\n",
        "n=Counter(a)\n",
        "print(n)"
      ]
    },
    {
      "cell_type": "code",
      "execution_count": null,
      "id": "f6fab2c1-2eb7-45aa-8190-af1731b0ca88",
      "metadata": {
        "id": "f6fab2c1-2eb7-45aa-8190-af1731b0ca88",
        "outputId": "80224faf-dba6-40df-bb56-67a75b3c3b91"
      },
      "outputs": [
        {
          "name": "stdout",
          "output_type": "stream",
          "text": [
            "Counter({'s': 1, 'i': 1, 'l': 1, 'e': 1, 'n': 1})\n"
          ]
        }
      ],
      "source": [
        "b = 'silen'\n",
        "s=Counter(b)\n",
        "print(s)\n"
      ]
    },
    {
      "cell_type": "code",
      "execution_count": null,
      "id": "5662b160-e48c-49a5-b316-714cb6e9f38c",
      "metadata": {
        "id": "5662b160-e48c-49a5-b316-714cb6e9f38c",
        "outputId": "9f9b2837-ec9e-46df-8847-4d7bf996c302"
      },
      "outputs": [
        {
          "name": "stdout",
          "output_type": "stream",
          "text": [
            "anagram\n"
          ]
        }
      ],
      "source": [
        "if n == s:\n",
        "    print(\"anagram\")\n",
        "else:\n",
        "    print(\"not an anagram\")"
      ]
    },
    {
      "cell_type": "code",
      "execution_count": null,
      "id": "3e878a17-93c4-4c6f-90f5-bd5d8d77ffb3",
      "metadata": {
        "id": "3e878a17-93c4-4c6f-90f5-bd5d8d77ffb3"
      },
      "outputs": [],
      "source": []
    },
    {
      "cell_type": "code",
      "execution_count": null,
      "id": "8419da86-cf29-4a2e-8b42-0a715699a7a0",
      "metadata": {
        "id": "8419da86-cf29-4a2e-8b42-0a715699a7a0",
        "outputId": "4cb06e29-81a5-420c-96ea-1d5a07096f8b"
      },
      "outputs": [
        {
          "name": "stdout",
          "output_type": "stream",
          "text": [
            "Vowels: 3 ['e', 'o', 'o']\n",
            "Consonants: 7 ['h', 'l', 'l', 'w', 'r', 'l', 'd']\n"
          ]
        },
        {
          "data": {
            "text/plain": [
              "Counter({'o': 2, 'e': 1})"
            ]
          },
          "execution_count": 16,
          "metadata": {},
          "output_type": "execute_result"
        }
      ],
      "source": [
        "s = \"Hello World\"\n",
        "s=s.replace(\" \", \"\").lower()\n",
        "\n",
        "vowels = \"aeiou\"\n",
        "v_count = 0\n",
        "V=[]\n",
        "c_count = 0\n",
        "C = []\n",
        "for i in s:\n",
        "    if i in vowels:\n",
        "        v_count =v_count+ 1\n",
        "        V.append(i)\n",
        "    else:\n",
        "        c_count =c_count+ 1\n",
        "        C.append(i)\n",
        "\n",
        "print(\"Vowels:\", v_count,V)\n",
        "\n",
        "print(\"Consonants:\", c_count,C)\n",
        "Counter(V)\n"
      ]
    },
    {
      "cell_type": "code",
      "execution_count": null,
      "id": "92d44118-a76a-436a-8e16-e5f32b6333bb",
      "metadata": {
        "id": "92d44118-a76a-436a-8e16-e5f32b6333bb",
        "outputId": "fd148a85-89ec-45a8-eb56-4ea32182c04e"
      },
      "outputs": [
        {
          "data": {
            "text/plain": [
              "Counter({'l': 3, 'h': 1, 'w': 1, 'r': 1, 'd': 1})"
            ]
          },
          "execution_count": 239,
          "metadata": {},
          "output_type": "execute_result"
        }
      ],
      "source": [
        "Counter(C)"
      ]
    },
    {
      "cell_type": "code",
      "execution_count": null,
      "id": "dd9cada0-8977-4a6b-82ae-fcb028db70d9",
      "metadata": {
        "id": "dd9cada0-8977-4a6b-82ae-fcb028db70d9",
        "outputId": "0c4931da-fa5b-46cc-f9c8-25d8911cdf55"
      },
      "outputs": [
        {
          "name": "stdout",
          "output_type": "stream",
          "text": [
            "MYSURAHJ\n"
          ]
        }
      ],
      "source": [
        "s = \"MYSURUMAHARAJA\"\n",
        "result = \"\"\n",
        "\n",
        "\n",
        "for i in s:\n",
        "    if i not in result:\n",
        "        result = result+i\n",
        "\n",
        "\n",
        "print(result)\n"
      ]
    },
    {
      "cell_type": "code",
      "execution_count": null,
      "id": "e9ac4a80-895c-425e-842a-28e6523cecf7",
      "metadata": {
        "id": "e9ac4a80-895c-425e-842a-28e6523cecf7"
      },
      "outputs": [],
      "source": [
        "4860069984"
      ]
    },
    {
      "cell_type": "code",
      "execution_count": null,
      "id": "956fc04f-d131-45cc-b2cf-a009d47a7c16",
      "metadata": {
        "id": "956fc04f-d131-45cc-b2cf-a009d47a7c16",
        "outputId": "bc035788-af87-47a6-d3a0-773b3f1a6c1f"
      },
      "outputs": [
        {
          "name": "stdout",
          "output_type": "stream",
          "text": [
            "<class 'pandas.core.series.Series'>\n",
            "1    22.0\n",
            "2    33.0\n",
            "3    40.0\n",
            "4     NaN\n",
            "dtype: float64\n"
          ]
        }
      ],
      "source": [
        "import pandas as pd\n",
        "amount = pd.Series([23,22,33,40])\n",
        "print(type(amount))\n",
        "s = pd.Series(amount,index = [1,2,3,4])\n",
        "print(s)"
      ]
    },
    {
      "cell_type": "code",
      "execution_count": null,
      "id": "2e2832fe-8d16-46d8-9ecb-f40c5e644e74",
      "metadata": {
        "id": "2e2832fe-8d16-46d8-9ecb-f40c5e644e74",
        "outputId": "2cd9d0da-f35a-476a-e0ab-5b4b77eb8765"
      },
      "outputs": [
        {
          "name": "stdout",
          "output_type": "stream",
          "text": [
            "<class 'pandas.core.series.Series'>\n",
            "   Data  Amount Names\n",
            "0     1      23    yo\n",
            "1     2      22    ro\n",
            "2     3      33    jo\n",
            "3     4      40    mo\n",
            "<class 'pandas.core.frame.DataFrame'>\n"
          ]
        }
      ],
      "source": [
        "import pandas as pd\n",
        "\n",
        "data =pd.Series ([1,2,3,4])\n",
        "amount = pd.Series([23,22,33,40])\n",
        "names =pd.Series (['yo','ro','jo','mo'])\n",
        "print(type(names))\n",
        "df = pd.DataFrame({\n",
        "    'Data':data,\n",
        "    'Amount': amount,\n",
        "    'Names':names\n",
        "\n",
        "})\n",
        "print(df)\n",
        "print(type(df))"
      ]
    },
    {
      "cell_type": "code",
      "execution_count": null,
      "id": "9cc3093f-156b-4381-a23b-83dca008cfd3",
      "metadata": {
        "id": "9cc3093f-156b-4381-a23b-83dca008cfd3",
        "outputId": "862470fa-fb48-4378-f49e-e87822cecfe0"
      },
      "outputs": [
        {
          "name": "stdout",
          "output_type": "stream",
          "text": [
            "   Data  Amount Names\n",
            "0     1      23    yo\n",
            "1     2      22    ro\n",
            "2     3      33    jo\n",
            "3     4      40    mo\n",
            "<class 'pandas.core.frame.DataFrame'>\n"
          ]
        }
      ],
      "source": [
        "import pandas as pd\n",
        "\n",
        "data = pd.Series([1,2,3,4])\n",
        "amount = pd.Series([23,22,33,40])\n",
        "names = pd.Series(['yo','ro','jo','mo'])\n",
        "\n",
        "\n",
        "df = pd.concat([data,amount,names],axis =1)\n",
        "df.columns=(['Data','Amount','Names'])\n",
        "print(df)\n",
        "print(type(df))"
      ]
    },
    {
      "cell_type": "code",
      "execution_count": null,
      "id": "deb46ff2-8043-4ac3-9df2-22247989c1c1",
      "metadata": {
        "id": "deb46ff2-8043-4ac3-9df2-22247989c1c1",
        "outputId": "e9f8ff8c-457c-4958-e5fb-ebb963cf96a6"
      },
      "outputs": [
        {
          "name": "stdout",
          "output_type": "stream",
          "text": [
            "   c_id item  amount\n",
            "0     1    A     100\n",
            "1     2    B     233\n",
            "2     3    C      43\n",
            "3     4    D      54\n"
          ]
        }
      ],
      "source": [
        "# merge 2 tables perform inner join\n",
        "\n",
        "\n",
        "import pandas as pd\n",
        "\n",
        "c = pd.DataFrame({\n",
        "    'c_id':[1,2,3,4,5],\n",
        "     'item':['A','B','C','D','k']\n",
        "})\n",
        "\n",
        "i = pd.DataFrame({\n",
        "    'c_id':[1,2,3,4,6],\n",
        "     'amount':[100,233,43,54,87]\n",
        "})\n",
        "\n",
        "join  =  pd.merge(c,i, on = 'c_id') # inner join #if u want u con perform specific join here like inner ,left,right,outer (how = 'left/right/outer)\n",
        "print(join)"
      ]
    },
    {
      "cell_type": "code",
      "execution_count": null,
      "id": "664b1972-4e8e-4ff1-b579-d4c3e9e006ed",
      "metadata": {
        "id": "664b1972-4e8e-4ff1-b579-d4c3e9e006ed",
        "outputId": "461a8a93-fd99-4a78-9cd3-79693c9577cf"
      },
      "outputs": [
        {
          "name": "stdout",
          "output_type": "stream",
          "text": [
            "   c_id item  amount\n",
            "1     1    A   100.0\n",
            "2     2    B   233.0\n",
            "3     3    C    43.0\n",
            "4     4    D    54.0\n",
            "5     5    k     NaN\n",
            "6     6  NaN    87.0\n"
          ]
        }
      ],
      "source": [
        "# merge 2 tables and perform left join\n",
        "fulljoin =  pd.merge(c,i ,on = 'c_id',how = 'outer')\n",
        "fulljoin.index = [1,2,3,4,5,6]\n",
        "print(full)"
      ]
    },
    {
      "cell_type": "code",
      "execution_count": null,
      "id": "290181e0-7a28-4844-a675-7e70a477469a",
      "metadata": {
        "id": "290181e0-7a28-4844-a675-7e70a477469a",
        "outputId": "7d90077e-9653-453e-87c3-967eec4eb18c"
      },
      "outputs": [
        {
          "name": "stdout",
          "output_type": "stream",
          "text": [
            "   c_id item  amount\n",
            "0     1    A   100.0\n",
            "1     2    B   233.0\n",
            "2     3    C    43.0\n",
            "3     4    D    54.0\n",
            "4     5    k     NaN\n"
          ]
        }
      ],
      "source": [
        "# merge 2 tables and perform left join\n",
        "\n",
        "left_join = pd.merge(c,i,on='c_id',how = 'left')\n",
        "print(left_join)"
      ]
    },
    {
      "cell_type": "code",
      "execution_count": null,
      "id": "5a79fcdb-806d-4871-9c95-09eb45145747",
      "metadata": {
        "id": "5a79fcdb-806d-4871-9c95-09eb45145747",
        "outputId": "80277774-02ea-4aa7-fc8a-e2d5e9b3a650"
      },
      "outputs": [
        {
          "name": "stdout",
          "output_type": "stream",
          "text": [
            "[0     True\n",
            "1     True\n",
            "2     True\n",
            "3     True\n",
            "4    False\n",
            "Name: c_id, dtype: bool]\n",
            "[0    False\n",
            "1    False\n",
            "2    False\n",
            "3    False\n",
            "4     True\n",
            "Name: c_id, dtype: bool]\n",
            "   c_id item\n",
            "4     5    k\n"
          ]
        }
      ],
      "source": [
        "import pandas as pd\n",
        "\n",
        "c = pd.DataFrame({\n",
        "    'c_id':[1,2,3,4,5],\n",
        "     'item':['A','B','C','D','k']\n",
        "})\n",
        "\n",
        "i = pd.DataFrame({\n",
        "    'c_id':[1,2,3,4,6],\n",
        "     'amount':[100,233,43,54,87]\n",
        "})\n",
        "\n",
        "#a = clicks[~clicks['campaign_id'].isin(installs['campaign_id'])]\n",
        "a = [c['c_id'].isin(i['c_id'])]\n",
        "print(a)\n",
        "\n",
        "b = [~c['c_id'].isin(i['c_id'])]\n",
        "print(b)\n",
        "\n",
        "#  Use ~ (Tilde) to Negate isin() gives a True/False for each row. ~ reverses that.\n",
        "\n",
        "n=c[~c['c_id'].isin(i['c_id'])]\n",
        "print(n)"
      ]
    },
    {
      "cell_type": "code",
      "execution_count": null,
      "id": "7e66211e-6190-45f5-882a-f4f2eead0a2a",
      "metadata": {
        "id": "7e66211e-6190-45f5-882a-f4f2eead0a2a",
        "outputId": "ec454cc0-fd96-4d8a-d1e9-eb8721474591"
      },
      "outputs": [
        {
          "name": "stdout",
          "output_type": "stream",
          "text": [
            "   c_id item  amount\n",
            "1     1    A   100.0\n",
            "2     2    B   233.0\n",
            "3     3    C    43.0\n",
            "4     4    D    54.0\n",
            "5     5    k     NaN\n",
            "6     6  NaN    87.0\n",
            "   c_id item  amount\n",
            "1     1    A   100.0\n",
            "2     2    B   233.0\n",
            "3     3    C    43.0\n",
            "4     4    D    54.0\n",
            "5     5    k    78.0\n",
            "6     6    h    87.0\n"
          ]
        }
      ],
      "source": [
        "import pandas as pd\n",
        "\n",
        "c = pd.DataFrame({\n",
        "    'c_id':[1,2,3,4,5],\n",
        "     'item':['A','B','C','D','k']\n",
        "})\n",
        "\n",
        "i = pd.DataFrame({\n",
        "    'c_id':[1,2,3,4,6],\n",
        "     'amount':[100,233,43,54,87]\n",
        "})\n",
        "\n",
        "\n",
        "join = pd.merge(c,i,on ='c_id',how = 'outer')\n",
        "\n",
        "join.index = [1,2,3,4,5,6]\n",
        "print(join)\n",
        "\n",
        "a =join.fillna({'item':'h','amount':78})\n",
        "print(a)\n"
      ]
    },
    {
      "cell_type": "code",
      "execution_count": null,
      "id": "c491298c-4521-45b1-a5bf-051d79075b8b",
      "metadata": {
        "id": "c491298c-4521-45b1-a5bf-051d79075b8b",
        "outputId": "642ad3e7-d165-4a6f-83be-dba16a1ec36a"
      },
      "outputs": [
        {
          "name": "stdout",
          "output_type": "stream",
          "text": [
            "   campaign_id  clicks\n",
            "1            2     150\n",
            "2            3     200\n"
          ]
        }
      ],
      "source": [
        "#merge two dataframes and calculate the install to click ratio\n",
        "\n",
        "import pandas as pd\n",
        "\n",
        "clicks = pd.DataFrame({\n",
        "    'campaign_id': [1, 2, 3],\n",
        "    'clicks': [100, 150, 200]\n",
        "})\n",
        "\n",
        "installs = pd.DataFrame({\n",
        "    'campaign_id': [1, 2, 3],\n",
        "    'installs': [10, 30, 50]\n",
        "})\n",
        "\n",
        "# Merge on 'campaign_id'\n",
        "merged = pd.merge(clicks, installs, on='campaign_id')\n",
        "\n",
        "\n",
        "merged['install_to_click_ratio'] = merged['installs'] / merged['clicks']\n",
        "#print(merged)\n",
        "\n",
        "a = clicks[(clicks['clicks']>100) & (clicks['clicks']<300)]\n",
        "print(a)"
      ]
    },
    {
      "cell_type": "code",
      "execution_count": null,
      "id": "c1262ebf-3f71-4e21-8490-ad526dfbc78d",
      "metadata": {
        "id": "c1262ebf-3f71-4e21-8490-ad526dfbc78d"
      },
      "outputs": [],
      "source": []
    },
    {
      "cell_type": "code",
      "execution_count": null,
      "id": "8c879c18-a82b-49c6-8fbf-d2bf6ded495a",
      "metadata": {
        "id": "8c879c18-a82b-49c6-8fbf-d2bf6ded495a",
        "outputId": "af04b719-7b37-433e-b3c2-37dbd3dcdeb8"
      },
      "outputs": [
        {
          "name": "stdout",
          "output_type": "stream",
          "text": [
            "   campaign_id  clicks\n",
            "3            4     400\n"
          ]
        }
      ],
      "source": [
        "#merge two dataframes and\n",
        "\n",
        "import pandas as pd\n",
        "# Example dataframes\n",
        "clicks = pd.DataFrame({\n",
        "    'campaign_id': [1, 2, 3,4],++\n",
        "\n",
        "    'clicks': [100, 150, 200,400]\n",
        "})\n",
        "\n",
        "installs = pd.DataFrame({\n",
        "    'campaign_id': [1, 2, 3],\n",
        "    'installs': [10, 30, 50]\n",
        "})\n",
        "\n",
        "# Records in clicks not present in installs\n",
        "a = clicks[~clicks['campaign_id'].isin(installs['campaign_id'])]\n",
        "\n",
        "print(a)\n"
      ]
    },
    {
      "cell_type": "code",
      "execution_count": null,
      "id": "0d9bdcf0-45b8-4565-9392-16ef87683b33",
      "metadata": {
        "id": "0d9bdcf0-45b8-4565-9392-16ef87683b33"
      },
      "outputs": [],
      "source": []
    },
    {
      "cell_type": "code",
      "execution_count": null,
      "id": "81913520-4c1f-42c7-a1d3-6085d99224e1",
      "metadata": {
        "id": "81913520-4c1f-42c7-a1d3-6085d99224e1"
      },
      "outputs": [],
      "source": []
    }
  ],
  "metadata": {
    "kernelspec": {
      "display_name": "Python 3 (ipykernel)",
      "language": "python",
      "name": "python3"
    },
    "language_info": {
      "codemirror_mode": {
        "name": "ipython",
        "version": 3
      },
      "file_extension": ".py",
      "mimetype": "text/x-python",
      "name": "python",
      "nbconvert_exporter": "python",
      "pygments_lexer": "ipython3",
      "version": "3.11.0"
    },
    "colab": {
      "provenance": [],
      "include_colab_link": true
    }
  },
  "nbformat": 4,
  "nbformat_minor": 5
}