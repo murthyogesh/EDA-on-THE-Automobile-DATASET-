{
  "nbformat": 4,
  "nbformat_minor": 5,
  "metadata": {
    "kernelspec": {
      "display_name": "Python 3 (ipykernel)",
      "language": "python",
      "name": "python3"
    },
    "language_info": {
      "codemirror_mode": {
        "name": "ipython",
        "version": 3
      },
      "file_extension": ".py",
      "mimetype": "text/x-python",
      "name": "python",
      "nbconvert_exporter": "python",
      "pygments_lexer": "ipython3",
      "version": "3.11.0"
    },
    "colab": {
      "provenance": [],
      "include_colab_link": true
    }
  },
  "cells": [
    {
      "cell_type": "markdown",
      "metadata": {
        "id": "view-in-github",
        "colab_type": "text"
      },
      "source": [
        "<a href=\"https://colab.research.google.com/github/murthyogesh/EDA-on-THE-Automobile-DATASET-/blob/main/Untitled.ipynb\" target=\"_parent\"><img src=\"https://colab.research.google.com/assets/colab-badge.svg\" alt=\"Open In Colab\"/></a>"
      ]
    },
    {
      "cell_type": "code",
      "source": [
        "a = [1,2,3]\n",
        "b =a\n",
        "b.append(4)\n",
        "print(a)"
      ],
      "metadata": {
        "id": "zRgJB1lOPH7d",
        "outputId": "696cde5e-881e-458b-f9ea-461da6ac28fd",
        "colab": {
          "base_uri": "https://localhost:8080/"
        }
      },
      "id": "zRgJB1lOPH7d",
      "execution_count": null,
      "outputs": [
        {
          "output_type": "stream",
          "name": "stdout",
          "text": [
            "[1, 2, 3, 4]\n"
          ]
        }
      ]
    },
    {
      "cell_type": "markdown",
      "source": [
        "in the above  creates list object in  memory with the elemnet [1,2,3] assigned to variable a,\n",
        "Now a reference to this list AND then b is also refrence to the same list,\n",
        "since a and b are reference to the same list changes via b are visible through a"
      ],
      "metadata": {
        "id": "sRr4azrlPaeI"
      },
      "id": "sRr4azrlPaeI"
    },
    {
      "cell_type": "code",
      "execution_count": null,
      "id": "c2fffe07-7ef1-4476-8c8e-9259927a1223",
      "metadata": {
        "id": "c2fffe07-7ef1-4476-8c8e-9259927a1223",
        "outputId": "a4db5444-5109-4956-d7fe-3557f0c4b068"
      },
      "outputs": [
        {
          "name": "stdout",
          "output_type": "stream",
          "text": [
            "1 4 9 16 "
          ]
        }
      ],
      "source": [
        "l = [1,2,3,4]\n",
        "for i in l:\n",
        "    print(i*i,end=\" \")"
      ]
    },
    {
      "cell_type": "code",
      "execution_count": null,
      "id": "b2e4ddf0-3b14-4b81-93c2-ee042b8622ca",
      "metadata": {
        "id": "b2e4ddf0-3b14-4b81-93c2-ee042b8622ca",
        "outputId": "eca26949-0008-4bd7-beb8-f69f6164e944"
      },
      "outputs": [
        {
          "name": "stdout",
          "output_type": "stream",
          "text": [
            "1 4 9 16 25 36 49 64 81 100 "
          ]
        }
      ],
      "source": [
        "for i in range(1,11):\n",
        "    print(i**2,end=\" \")\n"
      ]
    },
    {
      "cell_type": "code",
      "execution_count": null,
      "id": "049f25f6-ac32-4996-bd92-d98e61e44b1d",
      "metadata": {
        "id": "049f25f6-ac32-4996-bd92-d98e61e44b1d",
        "outputId": "89d5d289-3b0b-495f-cc70-addbf9308aa3"
      },
      "outputs": [
        {
          "name": "stdout",
          "output_type": "stream",
          "text": [
            "[1, 4, 9, 16, 25, 36, 49, 64, 81, 100]\n"
          ]
        }
      ],
      "source": [
        "l = [i**2 for i in range(1,11)]\n",
        "print(l)"
      ]
    },
    {
      "cell_type": "code",
      "source": [
        "V = [2,3,5,6]\n",
        "T = 9\n",
        "\n",
        "for i in range(0,len(V)):\n",
        "  for j in range(i+1,len(V)):\n",
        "    if V[i]+V[j] == T:\n",
        "      print(i,j)\n",
        "      print(V[i],V[j])\n"
      ],
      "metadata": {
        "id": "WJj8wQLHBxd1",
        "outputId": "b8a2eb1d-86ba-41a8-d677-a27f309d0083",
        "colab": {
          "base_uri": "https://localhost:8080/"
        }
      },
      "id": "WJj8wQLHBxd1",
      "execution_count": 44,
      "outputs": [
        {
          "output_type": "stream",
          "name": "stdout",
          "text": [
            "1 3\n",
            "3 6\n"
          ]
        }
      ]
    },
    {
      "cell_type": "code",
      "execution_count": null,
      "id": "b5c1e405-f31e-45c9-9284-844a80fdcaed",
      "metadata": {
        "id": "b5c1e405-f31e-45c9-9284-844a80fdcaed",
        "outputId": "8cb355db-9990-403d-898d-220c0982e20c"
      },
      "outputs": [
        {
          "name": "stdout",
          "output_type": "stream",
          "text": [
            "[1, 2, 3, 4, 5, 1, 2, 3, 4, 5, 6, 7, 8]\n"
          ]
        }
      ],
      "source": [
        "l = [1,2,3,4,5]\n",
        "n = [1,2,3,4,5,6,7,8]\n",
        "l.extend(n)\n",
        "print(l)"
      ]
    },
    {
      "cell_type": "code",
      "execution_count": null,
      "id": "2664f018-9613-4098-b24d-5148620bef84",
      "metadata": {
        "id": "2664f018-9613-4098-b24d-5148620bef84",
        "outputId": "fc635234-f781-4cbb-c61e-3ec275718201"
      },
      "outputs": [
        {
          "name": "stdout",
          "output_type": "stream",
          "text": [
            "[1, 22, 3, 4, 5]\n"
          ]
        }
      ],
      "source": [
        "l = [1,22,[3,4],5]\n",
        "nl =  []\n",
        "for i in l:\n",
        "    if isinstance(i,list):\n",
        "        nl.extend(i)\n",
        "    else:\n",
        "        nl.append(i)\n",
        "\n",
        "print(nl)\n"
      ]
    },
    {
      "cell_type": "code",
      "execution_count": 26,
      "id": "7529e10f-c20e-44c9-832b-198e0b7d40da",
      "metadata": {
        "id": "7529e10f-c20e-44c9-832b-198e0b7d40da",
        "outputId": "e5237a7a-693d-48b1-9224-7388a06e8653",
        "colab": {
          "base_uri": "https://localhost:8080/"
        }
      },
      "outputs": [
        {
          "output_type": "stream",
          "name": "stdout",
          "text": [
            "[1, 22.3, 33, 4, 6]\n"
          ]
        }
      ],
      "source": [
        "l1 = [1,22.3,[33,4],6]\n",
        "k = []\n",
        "\n",
        "for data in l1:\n",
        "    if len(str(data))>1 and type(data) == list:\n",
        "        k.extend(data)\n",
        "    else:\n",
        "        k.append(data)\n",
        "print(k)\n",
        "\n",
        "\n",
        "\n"
      ]
    },
    {
      "cell_type": "code",
      "execution_count": null,
      "id": "a87c8065-8528-442f-80d0-32e78ba64ad1",
      "metadata": {
        "id": "a87c8065-8528-442f-80d0-32e78ba64ad1",
        "outputId": "7978b2e2-f602-4b6c-d306-023596c27154"
      },
      "outputs": [
        {
          "name": "stdout",
          "output_type": "stream",
          "text": [
            "[1, 23, 33, 4, 55, 1, 2, 6]\n"
          ]
        }
      ],
      "source": [
        "l1 = [1, 23, [33, 4,55,1,2], 6]\n",
        "k = []\n",
        "\n",
        "for data in l1:\n",
        "    if type(data) == list:\n",
        "        k.extend(data)\n",
        "    else:\n",
        "        k.append(data)\n",
        "\n",
        "print(k)"
      ]
    },
    {
      "cell_type": "code",
      "execution_count": null,
      "id": "5d9efa91-797f-4f43-b569-9e7e778b0dad",
      "metadata": {
        "id": "5d9efa91-797f-4f43-b569-9e7e778b0dad",
        "outputId": "1614e6ed-53c0-45d6-ccbf-c9be744df525"
      },
      "outputs": [
        {
          "name": "stdout",
          "output_type": "stream",
          "text": [
            "<class 'int'>\n"
          ]
        }
      ],
      "source": [
        "l1 = [1, 23, 33, 4, 6]\n",
        "print(type(l1[0]))\n"
      ]
    },
    {
      "cell_type": "code",
      "execution_count": null,
      "id": "6a0fecfb-352c-4d2b-868b-79fc5a36e56b",
      "metadata": {
        "id": "6a0fecfb-352c-4d2b-868b-79fc5a36e56b",
        "outputId": "6f07543d-69cb-48c8-bf68-3fc325f86510"
      },
      "outputs": [
        {
          "name": "stdout",
          "output_type": "stream",
          "text": [
            "<class 'list'>\n"
          ]
        }
      ],
      "source": [
        "print(type(l1))"
      ]
    },
    {
      "cell_type": "code",
      "execution_count": 27,
      "id": "5157024c-fcaf-4a60-a0bf-afa017e6abe5",
      "metadata": {
        "id": "5157024c-fcaf-4a60-a0bf-afa017e6abe5",
        "outputId": "ef32905c-b769-4eb3-e18f-d71e36f1f248",
        "colab": {
          "base_uri": "https://localhost:8080/"
        }
      },
      "outputs": [
        {
          "output_type": "stream",
          "name": "stdout",
          "text": [
            "['RBI', 'repo', 'rate', 'cut', 'by', 'io', '50', 'bps:', 'The', 'RBI', 'has', 'cut', 'the', 'repo', 'rate', 'and', 'other', 'key', 'rates', 'by', '50', 'bps', 'in', \"today's\", 'monetary', 'policy', 'announcement.']\n",
            "RBI 2\n",
            "repo 2\n",
            "rate 2\n",
            "cut 2\n",
            "by 2\n",
            "50 2\n"
          ]
        }
      ],
      "source": [
        "from collections import Counter\n",
        "s = \"RBI repo rate cut by io 50 bps: The RBI has cut the repo rate and other key rates by 50 bps in today's monetary policy announcement.\"\n",
        "s = s.split()\n",
        "print(s)\n",
        "\n",
        "a = dict(Counter(s))\n",
        "for k,v in a.items():\n",
        "    if (v >1):\n",
        "        print(k,v)\n"
      ]
    },
    {
      "cell_type": "code",
      "execution_count": 28,
      "id": "7f3083da-ace0-4d77-8db9-eafce123ba96",
      "metadata": {
        "id": "7f3083da-ace0-4d77-8db9-eafce123ba96",
        "outputId": "648ea178-904e-4bac-a363-728b8e28336a",
        "colab": {
          "base_uri": "https://localhost:8080/"
        }
      },
      "outputs": [
        {
          "output_type": "stream",
          "name": "stdout",
          "text": [
            "{'m': 2, 'y': 1, 's': 1, 'u': 2, 'r': 2, ' ': 1, 'a': 4, 'h': 1, 'j': 1}\n",
            "m 2\n",
            "u 2\n",
            "r 2\n",
            "a 4\n"
          ]
        }
      ],
      "source": [
        "s1 = 'mysuru maharaja'\n",
        "d = {}\n",
        "\n",
        "for i in s1:\n",
        "    if i in d.keys():\n",
        "        d[i] = d[i]+1\n",
        "\n",
        "    else:\n",
        "        d[i] = 1\n",
        "print(d)\n",
        "\n",
        "for k , v in d.items():\n",
        "  if v >1:\n",
        "    print(k,v)"
      ]
    },
    {
      "cell_type": "code",
      "execution_count": null,
      "id": "3df250ce-5d4d-46c6-b0b1-86440d87fb3b",
      "metadata": {
        "id": "3df250ce-5d4d-46c6-b0b1-86440d87fb3b",
        "outputId": "01f69971-d780-4efe-c3aa-4516b01b7096"
      },
      "outputs": [
        {
          "name": "stdout",
          "output_type": "stream",
          "text": [
            "{'m': 2, 'y': 1, 's': 1, 'u': 2, 'r': 2, ' ': 1, 'a': 4, 'h': 1, 'j': 1}\n"
          ]
        }
      ],
      "source": [
        "s2='mysuru maharaja'\n",
        "a = dict(Counter(s2))\n",
        "print(a)"
      ]
    },
    {
      "cell_type": "code",
      "execution_count": null,
      "id": "e12f5420-cf87-49f5-bbd9-c65d2421847e",
      "metadata": {
        "id": "e12f5420-cf87-49f5-bbd9-c65d2421847e",
        "outputId": "81fd960f-0bb9-4352-cb2b-a6587c6073e5"
      },
      "outputs": [
        {
          "name": "stdout",
          "output_type": "stream",
          "text": [
            "anagram\n"
          ]
        }
      ],
      "source": [
        "l1 = 'listen'\n",
        "l2 = 'silent'\n",
        "\n",
        "if len(l1) !=len(l2):\n",
        "    print('not an anagram')\n",
        "elif sorted(l1) == sorted(l1):\n",
        "    print('anagram')\n",
        "else:\n",
        "    print('not an anagram')\n"
      ]
    },
    {
      "cell_type": "code",
      "execution_count": 35,
      "id": "a4dec6e8-c870-4769-a635-3cd3336434f7",
      "metadata": {
        "id": "a4dec6e8-c870-4769-a635-3cd3336434f7",
        "outputId": "d647718a-71ed-4937-d1a4-33047d951a17",
        "colab": {
          "base_uri": "https://localhost:8080/"
        }
      },
      "outputs": [
        {
          "output_type": "stream",
          "name": "stdout",
          "text": [
            "Anagram\n"
          ]
        }
      ],
      "source": [
        "str1 = \"Liste n\"\n",
        "str2 = \"silent\"\n",
        "\n",
        "str1 = str1.replace(\" \", \"\").lower()\n",
        "str2 = str2.replace(\" \", \"\").lower()\n",
        "\n",
        "if len(str1) != len(str2):\n",
        "    print(\"Not an anagram\")\n",
        "elif sorted(str1) == sorted(str2):\n",
        "    print(\"Anagram\")\n",
        "else:\n",
        "    print(\"Not an anagram\")\n"
      ]
    },
    {
      "cell_type": "code",
      "execution_count": null,
      "id": "ac6e68b4-40e2-44c7-ad8a-e72c185e0c2a",
      "metadata": {
        "id": "ac6e68b4-40e2-44c7-ad8a-e72c185e0c2a",
        "outputId": "f3295641-8ab7-4b2d-d8b1-0f2095c8c7d9"
      },
      "outputs": [
        {
          "name": "stdout",
          "output_type": "stream",
          "text": [
            "{'i': 5, 'e': 12, 'o': 8, 'a': 8, 'u': 3}\n"
          ]
        }
      ],
      "source": [
        "s = \"RBI repo rate cut by io 50 bps: The RBI has cut the repo rate and other key rates by 50 bps in today's monetary policy announcement.\"\n",
        "s=s.lower()\n",
        "a = ['a','e','i','o','u']\n",
        "d={}\n",
        "for i in s:\n",
        "    if i in a:\n",
        "        if i in d.keys():\n",
        "            d[i]=d[i]+1\n",
        "        else:\n",
        "            d[i]=1\n",
        "print(d)\n",
        "\n",
        "\n"
      ]
    },
    {
      "cell_type": "code",
      "execution_count": null,
      "id": "481d0cd5-4d85-4a12-b1f9-3d4e518647d8",
      "metadata": {
        "id": "481d0cd5-4d85-4a12-b1f9-3d4e518647d8",
        "outputId": "a65e4fe1-10c5-4b4d-c80d-ff31cc94f593"
      },
      "outputs": [
        {
          "name": "stdout",
          "output_type": "stream",
          "text": [
            "['e', 'o', 'a', 'e', 'u', 'i', 'o', 'e', 'a', 'u', 'e', 'e', 'o', 'a', 'e', 'a', 'o', 'e', 'e', 'a', 'e', 'i', 'o', 'a', 'o', 'e', 'a', 'o', 'i', 'a', 'o', 'u', 'e', 'e']\n"
          ]
        },
        {
          "data": {
            "text/plain": [
              "Counter({'e': 12, 'o': 8, 'a': 8, 'u': 3, 'i': 3})"
            ]
          },
          "execution_count": 216,
          "metadata": {},
          "output_type": "execute_result"
        }
      ],
      "source": [
        "from collections import Counter\n",
        "s = \"RBI repo rate cut by io 50 bps: The RBI has cut the repo rate and other key rates by 50 bps in today's monetary policy announcement.\"\n",
        "s.lower()\n",
        "v = ['a','e','i','o','u']\n",
        "a = []\n",
        "b = []\n",
        "for i in s:\n",
        "    if i in v:\n",
        "        a.append(i)\n",
        "    else:\n",
        "        b.append(i)\n",
        "\n",
        "print(a)\n",
        "Counter(a)\n"
      ]
    },
    {
      "cell_type": "code",
      "execution_count": null,
      "id": "409af159-a6f4-40a8-bded-c6636125cf06",
      "metadata": {
        "id": "409af159-a6f4-40a8-bded-c6636125cf06",
        "outputId": "496a17d0-2723-4c0e-de98-b39e5403c6be"
      },
      "outputs": [
        {
          "data": {
            "text/plain": [
              "Counter({'e': 12, 'o': 8, 'a': 8, 'i': 5, 'u': 3})"
            ]
          },
          "execution_count": 207,
          "metadata": {},
          "output_type": "execute_result"
        }
      ],
      "source": [
        "from collections import Counter\n",
        "s = \"RBI repo rate cut by io 50 bps: The RBI has cut the repo rate and other key rates by 50 bps in today's monetary policy announcement.\"\n",
        "s=s.lower()\n",
        "\n",
        "a = ['a','e','i','o','u']\n",
        "d = []\n",
        "for i in s:\n",
        "    if i in a:\n",
        "        d.append(i)\n",
        "\n",
        "Counter(d)"
      ]
    },
    {
      "cell_type": "code",
      "execution_count": 36,
      "id": "4791e2d9-7495-41ba-8c71-c4aa133840a2",
      "metadata": {
        "id": "4791e2d9-7495-41ba-8c71-c4aa133840a2",
        "outputId": "b5cf9554-4411-4f91-867f-9a12dc7a853e",
        "colab": {
          "base_uri": "https://localhost:8080/"
        }
      },
      "outputs": [
        {
          "output_type": "stream",
          "name": "stdout",
          "text": [
            "55\n"
          ]
        }
      ],
      "source": [
        "l = [1,2,3,4,5,6,7,8,9,10]\n",
        "a = sum(l)\n",
        "print(a)"
      ]
    },
    {
      "cell_type": "code",
      "execution_count": null,
      "id": "a93bf54b-42b2-4e4d-a596-0cccccfe9340",
      "metadata": {
        "id": "a93bf54b-42b2-4e4d-a596-0cccccfe9340",
        "outputId": "44f12e5f-64dd-4716-a847-cd4b4edca5ee"
      },
      "outputs": [
        {
          "name": "stdout",
          "output_type": "stream",
          "text": [
            "['1,2,3,4,5,6,7,8,9']\n"
          ]
        }
      ],
      "source": [
        "a= \"1,2,3,4,5,6,7,8,9\"\n",
        "s=a.split()\n",
        "print(s)\n"
      ]
    },
    {
      "cell_type": "code",
      "execution_count": null,
      "id": "f20d63af-4348-4c8d-a5d2-e67ea408ca8a",
      "metadata": {
        "id": "f20d63af-4348-4c8d-a5d2-e67ea408ca8a",
        "outputId": "6c4d296b-e6a9-46cd-9dbd-bddda0b930a9"
      },
      "outputs": [
        {
          "name": "stdout",
          "output_type": "stream",
          "text": [
            "Counter({'l': 1, 'i': 1, 's': 1, 't': 1, 'e': 1, 'n': 1})\n"
          ]
        }
      ],
      "source": [
        "a='listen'\n",
        "n=Counter(a)\n",
        "print(n)"
      ]
    },
    {
      "cell_type": "code",
      "execution_count": null,
      "id": "f6fab2c1-2eb7-45aa-8190-af1731b0ca88",
      "metadata": {
        "id": "f6fab2c1-2eb7-45aa-8190-af1731b0ca88",
        "outputId": "e5941f43-cbf1-4731-b06e-c5b242801394"
      },
      "outputs": [
        {
          "name": "stdout",
          "output_type": "stream",
          "text": [
            "Counter({'s': 1, 'i': 1, 'l': 1, 'e': 1, 'n': 1})\n"
          ]
        }
      ],
      "source": [
        "b = 'silen'\n",
        "s=Counter(b)\n",
        "print(s)\n"
      ]
    },
    {
      "cell_type": "code",
      "execution_count": null,
      "id": "5662b160-e48c-49a5-b316-714cb6e9f38c",
      "metadata": {
        "id": "5662b160-e48c-49a5-b316-714cb6e9f38c",
        "outputId": "236fee83-6f55-41bf-92cd-8f6020c3d097"
      },
      "outputs": [
        {
          "name": "stdout",
          "output_type": "stream",
          "text": [
            "anagram\n"
          ]
        }
      ],
      "source": [
        "if n == s:\n",
        "    print(\"anagram\")\n",
        "else:\n",
        "    print(\"not an anagram\")"
      ]
    },
    {
      "cell_type": "code",
      "execution_count": null,
      "id": "8419da86-cf29-4a2e-8b42-0a715699a7a0",
      "metadata": {
        "id": "8419da86-cf29-4a2e-8b42-0a715699a7a0",
        "outputId": "b478b448-07ca-4d4c-cef0-abdb00f8941c"
      },
      "outputs": [
        {
          "name": "stdout",
          "output_type": "stream",
          "text": [
            "Vowels: 3 ['e', 'o', 'o']\n",
            "Consonants: 7 ['h', 'l', 'l', 'w', 'r', 'l', 'd']\n"
          ]
        },
        {
          "data": {
            "text/plain": [
              "Counter({'o': 2, 'e': 1})"
            ]
          },
          "execution_count": 16,
          "metadata": {},
          "output_type": "execute_result"
        }
      ],
      "source": [
        "s = \"Hello World\"\n",
        "s=s.replace(\" \", \"\").lower()\n",
        "\n",
        "vowels = \"aeiou\"\n",
        "v_count = 0\n",
        "V=[]\n",
        "c_count = 0\n",
        "C = []\n",
        "for i in s:\n",
        "    if i in vowels:\n",
        "        v_count =v_count+ 1\n",
        "        V.append(i)\n",
        "    else:\n",
        "        c_count =c_count+ 1\n",
        "        C.append(i)\n",
        "\n",
        "print(\"Vowels:\", v_count,V)\n",
        "\n",
        "print(\"Consonants:\", c_count,C)\n",
        "Counter(V)\n"
      ]
    },
    {
      "cell_type": "code",
      "execution_count": null,
      "id": "92d44118-a76a-436a-8e16-e5f32b6333bb",
      "metadata": {
        "id": "92d44118-a76a-436a-8e16-e5f32b6333bb",
        "outputId": "9895d728-33e5-4898-c01f-f6bc7bffb083"
      },
      "outputs": [
        {
          "data": {
            "text/plain": [
              "Counter({'l': 3, 'h': 1, 'w': 1, 'r': 1, 'd': 1})"
            ]
          },
          "execution_count": 239,
          "metadata": {},
          "output_type": "execute_result"
        }
      ],
      "source": [
        "Counter(C)"
      ]
    },
    {
      "cell_type": "code",
      "execution_count": null,
      "id": "dd9cada0-8977-4a6b-82ae-fcb028db70d9",
      "metadata": {
        "id": "dd9cada0-8977-4a6b-82ae-fcb028db70d9",
        "outputId": "51b0bd93-3b3a-4b5b-85d5-8520597c2879"
      },
      "outputs": [
        {
          "name": "stdout",
          "output_type": "stream",
          "text": [
            "MYSURAHJ\n"
          ]
        }
      ],
      "source": [
        "s = \"MYSURUMAHARAJA\"\n",
        "result = \"\"\n",
        "\n",
        "\n",
        "for i in s:\n",
        "    if i not in result:\n",
        "        result = result+i\n",
        "\n",
        "\n",
        "print(result)\n"
      ]
    },
    {
      "cell_type": "code",
      "execution_count": 62,
      "id": "956fc04f-d131-45cc-b2cf-a009d47a7c16",
      "metadata": {
        "id": "956fc04f-d131-45cc-b2cf-a009d47a7c16",
        "outputId": "3c214406-5225-4093-9f83-39e5596fceb1",
        "colab": {
          "base_uri": "https://localhost:8080/"
        }
      },
      "outputs": [
        {
          "output_type": "stream",
          "name": "stdout",
          "text": [
            "1    23\n",
            "2    22\n",
            "3    33\n",
            "4    40\n",
            "dtype: int64\n"
          ]
        }
      ],
      "source": [
        "import pandas as pd\n",
        "amount = pd.Series([23,22,33,40])\n",
        "amount.index = [1,2,3,4]\n",
        "print(amount)"
      ]
    },
    {
      "cell_type": "code",
      "source": [
        "import pandas as pd\n",
        "amount = pd.Series([22,22,33,42],index=[1,2,3,4])\n",
        "print(amount)"
      ],
      "metadata": {
        "id": "y1h9myITHVWY",
        "outputId": "8751430a-9f53-4adf-d530-f58dcaf41a38",
        "colab": {
          "base_uri": "https://localhost:8080/"
        }
      },
      "id": "y1h9myITHVWY",
      "execution_count": 64,
      "outputs": [
        {
          "output_type": "stream",
          "name": "stdout",
          "text": [
            "1    22\n",
            "2    22\n",
            "3    33\n",
            "4    42\n",
            "dtype: int64\n"
          ]
        }
      ]
    },
    {
      "cell_type": "code",
      "execution_count": 67,
      "id": "2e2832fe-8d16-46d8-9ecb-f40c5e644e74",
      "metadata": {
        "id": "2e2832fe-8d16-46d8-9ecb-f40c5e644e74",
        "outputId": "05418b6c-80a0-4e8e-fab9-abc85a45ad1e",
        "colab": {
          "base_uri": "https://localhost:8080/"
        }
      },
      "outputs": [
        {
          "output_type": "stream",
          "name": "stdout",
          "text": [
            "<class 'pandas.core.series.Series'>\n",
            "   data  Amount Names\n",
            "0     1      23    yo\n",
            "1     2      22    ro\n",
            "2     3      33    jo\n",
            "3     4      40    mo\n",
            "<class 'pandas.core.frame.DataFrame'>\n"
          ]
        }
      ],
      "source": [
        "import pandas as pd\n",
        "\n",
        "data =pd.Series ([1,2,3,4])\n",
        "amount = pd.Series([23,22,33,40])\n",
        "names =pd.Series (['yo','ro','jo','mo'])\n",
        "print(type(names))\n",
        "df = pd.DataFrame({\n",
        "    'data':data,\n",
        "    'Amount': amount,\n",
        "    'Names':names\n",
        "\n",
        "})\n",
        "print(df)\n",
        "print(type(df))"
      ]
    },
    {
      "cell_type": "code",
      "execution_count": 69,
      "id": "9cc3093f-156b-4381-a23b-83dca008cfd3",
      "metadata": {
        "id": "9cc3093f-156b-4381-a23b-83dca008cfd3",
        "outputId": "100af274-71d4-4248-f2a5-f7dc3ee6837e",
        "colab": {
          "base_uri": "https://localhost:8080/"
        }
      },
      "outputs": [
        {
          "output_type": "stream",
          "name": "stdout",
          "text": [
            "   Data  Amount Names\n",
            "0     1      23    yo\n",
            "1     2      22    ro\n",
            "2     3      33    jo\n",
            "3     4      40    mo\n",
            "<class 'pandas.core.frame.DataFrame'>\n"
          ]
        }
      ],
      "source": [
        "import pandas as pd\n",
        "\n",
        "data = pd.Series([1,2,3,4])\n",
        "amount = pd.Series([23,22,33,40])\n",
        "names = pd.Series(['yo','ro','jo','mo'])\n",
        "\n",
        "\n",
        "df = pd.concat([data,amount,names],axis =1)\n",
        "df.columns=(['Data','Amount','Names'])\n",
        "print(df)\n",
        "print(type(df))"
      ]
    },
    {
      "cell_type": "code",
      "execution_count": 70,
      "id": "deb46ff2-8043-4ac3-9df2-22247989c1c1",
      "metadata": {
        "id": "deb46ff2-8043-4ac3-9df2-22247989c1c1",
        "outputId": "205350ce-400e-418d-9954-abf312df5f4a",
        "colab": {
          "base_uri": "https://localhost:8080/"
        }
      },
      "outputs": [
        {
          "output_type": "stream",
          "name": "stdout",
          "text": [
            "   c_id item  amount\n",
            "1     1    A     100\n",
            "2     2    B     233\n",
            "3     3    C      43\n",
            "4     4    D      54\n"
          ]
        }
      ],
      "source": [
        "# merge 2 tables perform inner join\n",
        "\n",
        "\n",
        "import pandas as pd\n",
        "\n",
        "c = pd.DataFrame({\n",
        "    'c_id':[1,2,3,4,5],\n",
        "     'item':['A','B','C','D','k']\n",
        "})\n",
        "\n",
        "i = pd.DataFrame({\n",
        "    'c_id':[1,2,3,4,6],\n",
        "     'amount':[100,233,43,54,87]\n",
        "})\n",
        "\n",
        "join  =  pd.merge(c,i, on = 'c_id') # inner join #if u want u con perform specific join here like inner ,left,right,outer (how = 'left/right/outer)\n",
        "join.index=[1,2,3,4]\n",
        "print(join)"
      ]
    },
    {
      "cell_type": "code",
      "execution_count": null,
      "id": "664b1972-4e8e-4ff1-b579-d4c3e9e006ed",
      "metadata": {
        "id": "664b1972-4e8e-4ff1-b579-d4c3e9e006ed",
        "outputId": "db391264-5bcf-44e0-fd5f-718a36914ef1"
      },
      "outputs": [
        {
          "name": "stdout",
          "output_type": "stream",
          "text": [
            "   c_id item  amount\n",
            "1     1    A   100.0\n",
            "2     2    B   233.0\n",
            "3     3    C    43.0\n",
            "4     4    D    54.0\n",
            "5     5    k     NaN\n",
            "6     6  NaN    87.0\n"
          ]
        }
      ],
      "source": [
        "# merge 2 tables and perform full outer join\n",
        "fulljoin =  pd.merge(c,i ,on = 'c_id',how = 'outer')\n",
        "fulljoin.index = [1,2,3,4,5,6]\n",
        "print(full)"
      ]
    },
    {
      "cell_type": "code",
      "execution_count": null,
      "id": "290181e0-7a28-4844-a675-7e70a477469a",
      "metadata": {
        "id": "290181e0-7a28-4844-a675-7e70a477469a",
        "outputId": "b58f8911-2b78-46f0-a4b5-b9805bb062b8"
      },
      "outputs": [
        {
          "name": "stdout",
          "output_type": "stream",
          "text": [
            "   c_id item  amount\n",
            "0     1    A   100.0\n",
            "1     2    B   233.0\n",
            "2     3    C    43.0\n",
            "3     4    D    54.0\n",
            "4     5    k     NaN\n"
          ]
        }
      ],
      "source": [
        "# merge 2 tables and perform left join\n",
        "\n",
        "left_join = pd.merge(c,i,on='c_id',how = 'left')\n",
        "print(left_join)"
      ]
    },
    {
      "cell_type": "code",
      "execution_count": null,
      "id": "5a79fcdb-806d-4871-9c95-09eb45145747",
      "metadata": {
        "id": "5a79fcdb-806d-4871-9c95-09eb45145747",
        "outputId": "653ef77f-08fc-49f4-c2a5-562e1782e4d0"
      },
      "outputs": [
        {
          "name": "stdout",
          "output_type": "stream",
          "text": [
            "[0     True\n",
            "1     True\n",
            "2     True\n",
            "3     True\n",
            "4    False\n",
            "Name: c_id, dtype: bool]\n",
            "[0    False\n",
            "1    False\n",
            "2    False\n",
            "3    False\n",
            "4     True\n",
            "Name: c_id, dtype: bool]\n",
            "   c_id item\n",
            "4     5    k\n"
          ]
        }
      ],
      "source": [
        "import pandas as pd\n",
        "\n",
        "c = pd.DataFrame({\n",
        "    'c_id':[1,2,3,4,5],\n",
        "     'item':['A','B','C','D','k']\n",
        "})\n",
        "\n",
        "i = pd.DataFrame({\n",
        "    'c_id':[1,2,3,4,6],\n",
        "     'amount':[100,233,43,54,87]\n",
        "})\n",
        "\n",
        "#a = clicks[~clicks['campaign_id'].isin(installs['campaign_id'])]\n",
        "a = [c['c_id'].isin(i['c_id'])]\n",
        "print(a)\n",
        "\n",
        "b = [~c['c_id'].isin(i['c_id'])]\n",
        "print(b)\n",
        "\n",
        "#  Use ~ (Tilde) to Negate isin() gives a True/False for each row. ~ reverses that.\n",
        "\n",
        "n=c[~c['c_id'].isin(i['c_id'])]\n",
        "print(n)"
      ]
    },
    {
      "cell_type": "code",
      "execution_count": null,
      "id": "7e66211e-6190-45f5-882a-f4f2eead0a2a",
      "metadata": {
        "id": "7e66211e-6190-45f5-882a-f4f2eead0a2a",
        "outputId": "2752ee6a-fec6-45a0-f3c8-714866dd630d"
      },
      "outputs": [
        {
          "name": "stdout",
          "output_type": "stream",
          "text": [
            "   c_id item  amount\n",
            "1     1    A   100.0\n",
            "2     2    B   233.0\n",
            "3     3    C    43.0\n",
            "4     4    D    54.0\n",
            "5     5    k     NaN\n",
            "6     6  NaN    87.0\n",
            "   c_id item  amount\n",
            "1     1    A   100.0\n",
            "2     2    B   233.0\n",
            "3     3    C    43.0\n",
            "4     4    D    54.0\n",
            "5     5    k    78.0\n",
            "6     6    h    87.0\n"
          ]
        }
      ],
      "source": [
        "import pandas as pd\n",
        "\n",
        "c = pd.DataFrame({\n",
        "    'c_id':[1,2,3,4,5],\n",
        "     'item':['A','B','C','D','k']\n",
        "})\n",
        "\n",
        "i = pd.DataFrame({\n",
        "    'c_id':[1,2,3,4,6],\n",
        "     'amount':[100,233,43,54,87]\n",
        "})\n",
        "\n",
        "\n",
        "join = pd.merge(c,i,on ='c_id',how = 'outer')\n",
        "\n",
        "join.index = [1,2,3,4,5,6]\n",
        "print(join)\n",
        "\n",
        "a =join.fillna({'item':'h','amount':78})\n",
        "print(a)\n"
      ]
    },
    {
      "cell_type": "code",
      "execution_count": null,
      "id": "c491298c-4521-45b1-a5bf-051d79075b8b",
      "metadata": {
        "id": "c491298c-4521-45b1-a5bf-051d79075b8b",
        "outputId": "bb654dd3-0aa9-40f2-f45f-37c9ce2835d5"
      },
      "outputs": [
        {
          "name": "stdout",
          "output_type": "stream",
          "text": [
            "   campaign_id  clicks\n",
            "1            2     150\n",
            "2            3     200\n"
          ]
        }
      ],
      "source": [
        "#merge two dataframes and calculate the install to click ratio\n",
        "\n",
        "import pandas as pd\n",
        "\n",
        "clicks = pd.DataFrame({\n",
        "    'campaign_id': [1, 2, 3],\n",
        "    'clicks': [100, 150, 200]\n",
        "})\n",
        "\n",
        "installs = pd.DataFrame({\n",
        "    'campaign_id': [1, 2, 3],\n",
        "    'installs': [10, 30, 50]\n",
        "})\n",
        "\n",
        "# Merge on 'campaign_id'\n",
        "merged = pd.merge(clicks, installs, on='campaign_id')\n",
        "\n",
        "\n",
        "merged['install_to_click_ratio'] = merged['installs'] / merged['clicks']\n",
        "#print(merged)\n",
        "\n",
        "a = clicks[(clicks['clicks']>100) & (clicks['clicks']<300)]\n",
        "print(a)"
      ]
    },
    {
      "cell_type": "code",
      "execution_count": null,
      "id": "c1262ebf-3f71-4e21-8490-ad526dfbc78d",
      "metadata": {
        "id": "c1262ebf-3f71-4e21-8490-ad526dfbc78d"
      },
      "outputs": [],
      "source": []
    },
    {
      "cell_type": "code",
      "execution_count": null,
      "id": "8c879c18-a82b-49c6-8fbf-d2bf6ded495a",
      "metadata": {
        "id": "8c879c18-a82b-49c6-8fbf-d2bf6ded495a",
        "outputId": "dc7e5fff-8ff0-468b-b394-bd98d3edf704"
      },
      "outputs": [
        {
          "name": "stdout",
          "output_type": "stream",
          "text": [
            "   campaign_id  clicks\n",
            "3            4     400\n"
          ]
        }
      ],
      "source": [
        "#merge two dataframes and\n",
        "\n",
        "import pandas as pd\n",
        "# Example dataframes\n",
        "clicks = pd.DataFrame({\n",
        "    'campaign_id': [1, 2, 3,4],++\n",
        "\n",
        "    'clicks': [100, 150, 200,400]\n",
        "})\n",
        "\n",
        "installs = pd.DataFrame({\n",
        "    'campaign_id': [1, 2, 3],\n",
        "    'installs': [10, 30, 50]\n",
        "})\n",
        "\n",
        "# Records in clicks not present in installs\n",
        "a = clicks[~clicks['campaign_id'].isin(installs['campaign_id'])]\n",
        "\n",
        "print(a)\n"
      ]
    },
    {
      "cell_type": "code",
      "execution_count": 24,
      "id": "81913520-4c1f-42c7-a1d3-6085d99224e1",
      "metadata": {
        "id": "81913520-4c1f-42c7-a1d3-6085d99224e1",
        "outputId": "3914ed62-4231-4133-f1ad-85e9fdb6a7ec",
        "colab": {
          "base_uri": "https://localhost:8080/"
        }
      },
      "outputs": [
        {
          "output_type": "stream",
          "name": "stdout",
          "text": [
            "[1, 'a', 2, 3, 4, 5, 6, 7]\n"
          ]
        }
      ],
      "source": [
        "w = [1,'a',2,3,[4,5],6,7]\n",
        "v = []\n",
        "\n",
        "for i in w :\n",
        "  if isinstance(i,list):\n",
        "    v.extend(i)\n",
        "  else:\n",
        "    v.append(i)\n",
        "print(v)"
      ]
    },
    {
      "cell_type": "code",
      "source": [
        "a = [1,'a',2,[3,4],5]\n",
        "nl =  []\n",
        "for i in a:\n",
        "    if isinstance(i,list):\n",
        "        nl.extend(i)\n",
        "    else:\n",
        "        nl.append(i)\n",
        "\n",
        "print(nl)\n"
      ],
      "metadata": {
        "id": "yVD1Si5Q063V",
        "outputId": "3cc94940-00c3-4bb6-f398-408f7a3be144",
        "colab": {
          "base_uri": "https://localhost:8080/"
        }
      },
      "id": "yVD1Si5Q063V",
      "execution_count": 48,
      "outputs": [
        {
          "output_type": "stream",
          "name": "stdout",
          "text": [
            "[1, 'a', 2, 3, 4, 5]\n"
          ]
        }
      ]
    },
    {
      "cell_type": "code",
      "source": [],
      "metadata": {
        "id": "NK10TsT1E7EC"
      },
      "id": "NK10TsT1E7EC",
      "execution_count": null,
      "outputs": []
    }
  ]
}